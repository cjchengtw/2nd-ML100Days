{
  "nbformat": 4,
  "nbformat_minor": 0,
  "metadata": {
    "colab": {
      "name": "“Day_004_column_data_type.ipynb”的副本",
      "version": "0.3.2",
      "provenance": [],
      "include_colab_link": true
    },
    "language_info": {
      "codemirror_mode": {
        "name": "ipython",
        "version": 3
      },
      "file_extension": ".py",
      "mimetype": "text/x-python",
      "name": "python",
      "nbconvert_exporter": "python",
      "pygments_lexer": "ipython3",
      "version": "3.6.1"
    },
    "kernelspec": {
      "name": "python3",
      "display_name": "Python 3"
    },
    "accelerator": "GPU"
  },
  "cells": [
    {
      "cell_type": "markdown",
      "metadata": {
        "id": "view-in-github",
        "colab_type": "text"
      },
      "source": [
        "<a href=\"https://colab.research.google.com/github/cjchengtw/2nd-ML100Days/blob/master/Day_004_HW.ipynb\" target=\"_parent\"><img src=\"https://colab.research.google.com/assets/colab-badge.svg\" alt=\"Open In Colab\"/></a>"
      ]
    },
    {
      "cell_type": "code",
      "metadata": {
        "colab_type": "code",
        "id": "lh9gyloHVblR",
        "colab": {}
      },
      "source": [
        "import os\n",
        "import numpy as np\n",
        "import pandas as pd"
      ],
      "execution_count": 0,
      "outputs": []
    },
    {
      "cell_type": "code",
      "metadata": {
        "id": "VJmRJ76rrN7S",
        "colab_type": "code",
        "outputId": "0bc3c440-a8dd-4857-f04b-95d937a21d81",
        "colab": {
          "base_uri": "https://localhost:8080/",
          "height": 202
        }
      },
      "source": [
        "!wget \"http://ai100.cupoy.com/file-download/part01/application_train.csv\""
      ],
      "execution_count": 0,
      "outputs": [
        {
          "output_type": "stream",
          "text": [
            "--2019-05-02 09:54:19--  http://ai100.cupoy.com/file-download/part01/application_train.csv\n",
            "Resolving ai100.cupoy.com (ai100.cupoy.com)... 99.84.194.36, 99.84.194.28, 99.84.194.88, ...\n",
            "Connecting to ai100.cupoy.com (ai100.cupoy.com)|99.84.194.36|:80... connected.\n",
            "HTTP request sent, awaiting response... 200 OK\n",
            "Length: 166133370 (158M) [text/csv]\n",
            "Saving to: ‘application_train.csv’\n",
            "\n",
            "application_train.c 100%[===================>] 158.44M   100MB/s    in 1.6s    \n",
            "\n",
            "2019-05-02 09:54:20 (100 MB/s) - ‘application_train.csv’ saved [166133370/166133370]\n",
            "\n"
          ],
          "name": "stdout"
        }
      ]
    },
    {
      "cell_type": "code",
      "metadata": {
        "id": "UW3x1s5fvv4u",
        "colab_type": "code",
        "colab": {}
      },
      "source": [
        ""
      ],
      "execution_count": 0,
      "outputs": []
    },
    {
      "cell_type": "code",
      "metadata": {
        "colab_type": "code",
        "id": "z4iLB9cKVblV",
        "colab": {}
      },
      "source": [
        "# 設定 data_path, 並讀取 app_train\n",
        "#dir_data = './data/'\n",
        "#f_app_train = os.path.join(dir_data, 'application_train.csv')\n",
        "f_app_train = '/content/application_train.csv'\n",
        "app_train = pd.read_csv(f_app_train)"
      ],
      "execution_count": 0,
      "outputs": []
    },
    {
      "cell_type": "code",
      "metadata": {
        "colab_type": "code",
        "id": "d5IeEcPVVblq",
        "colab": {}
      },
      "source": [
        "## 作業\n",
        "#將下列部分資料片段 sub_train 使用 One Hot encoding, 並觀察轉換前後的欄位數量 (使用 shape) 與欄位名稱 (使用 head) 變化"
      ],
      "execution_count": 0,
      "outputs": []
    },
    {
      "cell_type": "code",
      "metadata": {
        "id": "KjBzXmn7jrnN",
        "colab_type": "code",
        "outputId": "99c13593-e86f-4343-92a7-237d0a4007ec",
        "colab": {
          "base_uri": "https://localhost:8080/",
          "height": 212
        }
      },
      "source": [
        "sub_train = pd.DataFrame(app_train['WEEKDAY_APPR_PROCESS_START'])\n",
        "print(sub_train.shape)\n",
        "sub_train.head()"
      ],
      "execution_count": 0,
      "outputs": [
        {
          "output_type": "stream",
          "text": [
            "(307511, 1)\n"
          ],
          "name": "stdout"
        },
        {
          "output_type": "execute_result",
          "data": {
            "text/html": [
              "<div>\n",
              "<style scoped>\n",
              "    .dataframe tbody tr th:only-of-type {\n",
              "        vertical-align: middle;\n",
              "    }\n",
              "\n",
              "    .dataframe tbody tr th {\n",
              "        vertical-align: top;\n",
              "    }\n",
              "\n",
              "    .dataframe thead th {\n",
              "        text-align: right;\n",
              "    }\n",
              "</style>\n",
              "<table border=\"1\" class=\"dataframe\">\n",
              "  <thead>\n",
              "    <tr style=\"text-align: right;\">\n",
              "      <th></th>\n",
              "      <th>WEEKDAY_APPR_PROCESS_START</th>\n",
              "    </tr>\n",
              "  </thead>\n",
              "  <tbody>\n",
              "    <tr>\n",
              "      <th>0</th>\n",
              "      <td>WEDNESDAY</td>\n",
              "    </tr>\n",
              "    <tr>\n",
              "      <th>1</th>\n",
              "      <td>MONDAY</td>\n",
              "    </tr>\n",
              "    <tr>\n",
              "      <th>2</th>\n",
              "      <td>MONDAY</td>\n",
              "    </tr>\n",
              "    <tr>\n",
              "      <th>3</th>\n",
              "      <td>WEDNESDAY</td>\n",
              "    </tr>\n",
              "    <tr>\n",
              "      <th>4</th>\n",
              "      <td>THURSDAY</td>\n",
              "    </tr>\n",
              "  </tbody>\n",
              "</table>\n",
              "</div>"
            ],
            "text/plain": [
              "  WEEKDAY_APPR_PROCESS_START\n",
              "0                  WEDNESDAY\n",
              "1                     MONDAY\n",
              "2                     MONDAY\n",
              "3                  WEDNESDAY\n",
              "4                   THURSDAY"
            ]
          },
          "metadata": {
            "tags": []
          },
          "execution_count": 5
        }
      ]
    },
    {
      "cell_type": "code",
      "metadata": {
        "id": "q6FYisF04DGr",
        "colab_type": "code",
        "outputId": "992d534d-1a41-443f-e078-8ece164740f3",
        "colab": {
          "base_uri": "https://localhost:8080/",
          "height": 34
        }
      },
      "source": [
        "data = app_train['WEEKDAY_APPR_PROCESS_START']\n",
        "np_data = np.array(app_train['WEEKDAY_APPR_PROCESS_START'])\n",
        "print(len(data))"
      ],
      "execution_count": 0,
      "outputs": [
        {
          "output_type": "stream",
          "text": [
            "307511\n"
          ],
          "name": "stdout"
        }
      ]
    },
    {
      "cell_type": "code",
      "metadata": {
        "id": "OptOXwvpjrnS",
        "colab_type": "code",
        "outputId": "3fd9612a-46f9-4a4d-8f6b-bfa301c1bc68",
        "colab": {
          "base_uri": "https://localhost:8080/",
          "height": 874
        }
      },
      "source": [
        "\n",
        "from sklearn.preprocessing import OneHotEncoder,LabelEncoder\n",
        "from sklearn.compose import ColumnTransformer\n",
        "onehotencoder = OneHotEncoder()\n",
        "x = onehotencoder.fit_transform(np_data.reshape(1, -1))\n",
        "print(x)"
      ],
      "execution_count": 0,
      "outputs": [
        {
          "output_type": "stream",
          "text": [
            "  (0, 0)\t1.0\n",
            "  (0, 1)\t1.0\n",
            "  (0, 2)\t1.0\n",
            "  (0, 3)\t1.0\n",
            "  (0, 4)\t1.0\n",
            "  (0, 5)\t1.0\n",
            "  (0, 6)\t1.0\n",
            "  (0, 7)\t1.0\n",
            "  (0, 8)\t1.0\n",
            "  (0, 9)\t1.0\n",
            "  (0, 10)\t1.0\n",
            "  (0, 11)\t1.0\n",
            "  (0, 12)\t1.0\n",
            "  (0, 13)\t1.0\n",
            "  (0, 14)\t1.0\n",
            "  (0, 15)\t1.0\n",
            "  (0, 16)\t1.0\n",
            "  (0, 17)\t1.0\n",
            "  (0, 18)\t1.0\n",
            "  (0, 19)\t1.0\n",
            "  (0, 20)\t1.0\n",
            "  (0, 21)\t1.0\n",
            "  (0, 22)\t1.0\n",
            "  (0, 23)\t1.0\n",
            "  (0, 24)\t1.0\n",
            "  :\t:\n",
            "  (0, 307486)\t1.0\n",
            "  (0, 307487)\t1.0\n",
            "  (0, 307488)\t1.0\n",
            "  (0, 307489)\t1.0\n",
            "  (0, 307490)\t1.0\n",
            "  (0, 307491)\t1.0\n",
            "  (0, 307492)\t1.0\n",
            "  (0, 307493)\t1.0\n",
            "  (0, 307494)\t1.0\n",
            "  (0, 307495)\t1.0\n",
            "  (0, 307496)\t1.0\n",
            "  (0, 307497)\t1.0\n",
            "  (0, 307498)\t1.0\n",
            "  (0, 307499)\t1.0\n",
            "  (0, 307500)\t1.0\n",
            "  (0, 307501)\t1.0\n",
            "  (0, 307502)\t1.0\n",
            "  (0, 307503)\t1.0\n",
            "  (0, 307504)\t1.0\n",
            "  (0, 307505)\t1.0\n",
            "  (0, 307506)\t1.0\n",
            "  (0, 307507)\t1.0\n",
            "  (0, 307508)\t1.0\n",
            "  (0, 307509)\t1.0\n",
            "  (0, 307510)\t1.0\n"
          ],
          "name": "stdout"
        }
      ]
    },
    {
      "cell_type": "code",
      "metadata": {
        "id": "2OaBWT-ncF6o",
        "colab_type": "code",
        "colab": {}
      },
      "source": [
        ""
      ],
      "execution_count": 0,
      "outputs": []
    },
    {
      "cell_type": "code",
      "metadata": {
        "id": "2yQdIaLs3dhG",
        "colab_type": "code",
        "colab": {}
      },
      "source": [
        ""
      ],
      "execution_count": 0,
      "outputs": []
    }
  ]
}