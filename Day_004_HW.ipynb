{
  "nbformat": 4,
  "nbformat_minor": 0,
  "metadata": {
    "colab": {
      "name": "Day_004_HW.ipynb",
      "version": "0.3.2",
      "provenance": [],
      "include_colab_link": true
    },
    "language_info": {
      "codemirror_mode": {
        "name": "ipython",
        "version": 3
      },
      "file_extension": ".py",
      "mimetype": "text/x-python",
      "name": "python",
      "nbconvert_exporter": "python",
      "pygments_lexer": "ipython3",
      "version": "3.6.1"
    },
    "kernelspec": {
      "name": "python3",
      "display_name": "Python 3"
    },
    "accelerator": "GPU"
  },
  "cells": [
    {
      "cell_type": "markdown",
      "metadata": {
        "id": "view-in-github",
        "colab_type": "text"
      },
      "source": [
        "<a href=\"https://colab.research.google.com/github/cjchengtw/2nd-ML100Days/blob/master/Day_004_HW.ipynb\" target=\"_parent\"><img src=\"https://colab.research.google.com/assets/colab-badge.svg\" alt=\"Open In Colab\"/></a>"
      ]
    },
    {
      "cell_type": "code",
      "metadata": {
        "colab_type": "code",
        "id": "lh9gyloHVblR",
        "colab": {}
      },
      "source": [
        "import os\n",
        "import numpy as np\n",
        "import pandas as pd"
      ],
      "execution_count": 0,
      "outputs": []
    },
    {
      "cell_type": "code",
      "metadata": {
        "id": "VJmRJ76rrN7S",
        "colab_type": "code",
        "outputId": "0bc3c440-a8dd-4857-f04b-95d937a21d81",
        "colab": {
          "base_uri": "https://localhost:8080/",
          "height": 202
        }
      },
      "source": [
        "!wget \"http://ai100.cupoy.com/file-download/part01/application_train.csv\""
      ],
      "execution_count": 0,
      "outputs": [
        {
          "output_type": "stream",
          "text": [
            "--2019-05-02 09:54:19--  http://ai100.cupoy.com/file-download/part01/application_train.csv\n",
            "Resolving ai100.cupoy.com (ai100.cupoy.com)... 99.84.194.36, 99.84.194.28, 99.84.194.88, ...\n",
            "Connecting to ai100.cupoy.com (ai100.cupoy.com)|99.84.194.36|:80... connected.\n",
            "HTTP request sent, awaiting response... 200 OK\n",
            "Length: 166133370 (158M) [text/csv]\n",
            "Saving to: ‘application_train.csv’\n",
            "\n",
            "application_train.c 100%[===================>] 158.44M   100MB/s    in 1.6s    \n",
            "\n",
            "2019-05-02 09:54:20 (100 MB/s) - ‘application_train.csv’ saved [166133370/166133370]\n",
            "\n"
          ],
          "name": "stdout"
        }
      ]
    },
    {
      "cell_type": "code",
      "metadata": {
        "id": "UW3x1s5fvv4u",
        "colab_type": "code",
        "colab": {}
      },
      "source": [
        ""
      ],
      "execution_count": 0,
      "outputs": []
    },
    {
      "cell_type": "code",
      "metadata": {
        "colab_type": "code",
        "id": "z4iLB9cKVblV",
        "colab": {}
      },
      "source": [
        "# 設定 data_path, 並讀取 app_train\n",
        "#dir_data = './data/'\n",
        "#f_app_train = os.path.join(dir_data, 'application_train.csv')\n",
        "f_app_train = '/content/application_train.csv'\n",
        "app_train = pd.read_csv(f_app_train)"
      ],
      "execution_count": 0,
      "outputs": []
    },
    {
      "cell_type": "code",
      "metadata": {
        "colab_type": "code",
        "id": "d5IeEcPVVblq",
        "colab": {}
      },
      "source": [
        "## 作業\n",
        "#將下列部分資料片段 sub_train 使用 One Hot encoding, 並觀察轉換前後的欄位數量 (使用 shape) 與欄位名稱 (使用 head) 變化"
      ],
      "execution_count": 0,
      "outputs": []
    },
    {
      "cell_type": "code",
      "metadata": {
        "id": "OptOXwvpjrnS",
        "colab_type": "code",
        "outputId": "d20ec2e3-5caf-4248-96dd-550d95d3cba3",
        "colab": {
          "base_uri": "https://localhost:8080/",
          "height": 699
        }
      },
      "source": [
        "print(\"===== Before One Hot Encoding =====\")\n",
        "\n",
        "app_train = pd.read_csv(f_app_train)\n",
        "sub_train = pd.DataFrame(app_train['WEEKDAY_APPR_PROCESS_START'])\n",
        "print(\"Shape: \",sub_train.shape)\n",
        "print(sub_train.head())\n",
        "\n",
        "print(\"===== After One Hot Encoding =====\")\n",
        "sub_train_ohe = pd.get_dummies(sub_train)\n",
        "print(\"Shape: \",sub_train_ohe.shape)\n",
        "print(sub_train_ohe.head())"
      ],
      "execution_count": 4,
      "outputs": [
        {
          "output_type": "stream",
          "text": [
            "===== Before One Hot Encoding =====\n",
            "Shape:  (307511, 1)\n",
            "  WEEKDAY_APPR_PROCESS_START\n",
            "0                  WEDNESDAY\n",
            "1                     MONDAY\n",
            "2                     MONDAY\n",
            "3                  WEDNESDAY\n",
            "4                   THURSDAY\n",
            "===== After One Hot Encoding =====\n",
            "Shape:  (307511, 7)\n",
            "   WEEKDAY_APPR_PROCESS_START_FRIDAY  WEEKDAY_APPR_PROCESS_START_MONDAY  \\\n",
            "0                                  0                                  0   \n",
            "1                                  0                                  1   \n",
            "2                                  0                                  1   \n",
            "3                                  0                                  0   \n",
            "4                                  0                                  0   \n",
            "\n",
            "   WEEKDAY_APPR_PROCESS_START_SATURDAY  WEEKDAY_APPR_PROCESS_START_SUNDAY  \\\n",
            "0                                    0                                  0   \n",
            "1                                    0                                  0   \n",
            "2                                    0                                  0   \n",
            "3                                    0                                  0   \n",
            "4                                    0                                  0   \n",
            "\n",
            "   WEEKDAY_APPR_PROCESS_START_THURSDAY  WEEKDAY_APPR_PROCESS_START_TUESDAY  \\\n",
            "0                                    0                                   0   \n",
            "1                                    0                                   0   \n",
            "2                                    0                                   0   \n",
            "3                                    0                                   0   \n",
            "4                                    1                                   0   \n",
            "\n",
            "   WEEKDAY_APPR_PROCESS_START_WEDNESDAY  \n",
            "0                                     1  \n",
            "1                                     0  \n",
            "2                                     0  \n",
            "3                                     1  \n",
            "4                                     0  \n"
          ],
          "name": "stdout"
        }
      ]
    },
    {
      "cell_type": "code",
      "metadata": {
        "id": "2OaBWT-ncF6o",
        "colab_type": "code",
        "colab": {}
      },
      "source": [
        ""
      ],
      "execution_count": 0,
      "outputs": []
    },
    {
      "cell_type": "code",
      "metadata": {
        "id": "2yQdIaLs3dhG",
        "colab_type": "code",
        "colab": {}
      },
      "source": [
        ""
      ],
      "execution_count": 0,
      "outputs": []
    }
  ]
}