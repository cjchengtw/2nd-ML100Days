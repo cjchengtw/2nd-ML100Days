{
  "nbformat": 4,
  "nbformat_minor": 0,
  "metadata": {
    "colab": {
      "name": "Day_010_HW.ipynb",
      "version": "0.3.2",
      "provenance": [],
      "collapsed_sections": [],
      "include_colab_link": true
    },
    "language_info": {
      "codemirror_mode": {
        "name": "ipython",
        "version": 3
      },
      "file_extension": ".py",
      "mimetype": "text/x-python",
      "name": "python",
      "nbconvert_exporter": "python",
      "pygments_lexer": "ipython3",
      "version": "3.6.1"
    },
    "kernelspec": {
      "display_name": "Python 3",
      "language": "python",
      "name": "python3"
    }
  },
  "cells": [
    {
      "cell_type": "markdown",
      "metadata": {
        "id": "view-in-github",
        "colab_type": "text"
      },
      "source": [
        "<a href=\"https://colab.research.google.com/github/cjchengtw/2nd-ML100Days/blob/master/homework/Day_010_HW.ipynb\" target=\"_parent\"><img src=\"https://colab.research.google.com/assets/colab-badge.svg\" alt=\"Open In Colab\"/></a>"
      ]
    },
    {
      "cell_type": "markdown",
      "metadata": {
        "collapsed": true,
        "id": "dvlvjEj-GuTo",
        "colab_type": "text"
      },
      "source": [
        "# [作業目標]\n",
        "- 請同學試著使用 pandas.corr() 這個函數來顯示相關係數並加以觀察結果 \n",
        "- 思考1 : 使用 pandas 有沒有什麼寫法, 可以顯示欄位中最大的幾筆, 以及最小幾筆呢? (Hint: 排序後列出前幾筆/後幾筆)\n",
        "- 思考2 : 試著使用散佈圖, 顯示相關度最大/最小的特徵與目標值的關係, 如果圖形不明顯, 是否有調整的方法?"
      ]
    },
    {
      "cell_type": "markdown",
      "metadata": {
        "collapsed": true,
        "id": "nVxQHTKiGuUC",
        "colab_type": "text"
      },
      "source": [
        "# [作業重點]\n",
        "- 綜合前幾單元的作法, 試試看是否能夠用繪圖顯示出特徵與目標的相關性"
      ]
    },
    {
      "cell_type": "code",
      "metadata": {
        "id": "BWfQSoKYGuUO",
        "colab_type": "code",
        "colab": {
          "base_uri": "https://localhost:8080/",
          "height": 220
        },
        "outputId": "44b8bc69-0779-40d9-a352-b98f41522833"
      },
      "source": [
        "# 載入需要的套件\n",
        "import os\n",
        "import numpy as np\n",
        "import pandas as pd\n",
        "import matplotlib.pyplot as plt\n",
        "%matplotlib inline\n",
        "\n",
        "# 設定 data_path\n",
        "dir_data = './data/'\n",
        "!wget \"http://ai100.cupoy.com/file-download/part01/application_train.csv\""
      ],
      "execution_count": 1,
      "outputs": [
        {
          "output_type": "stream",
          "text": [
            "--2019-05-11 23:02:24--  http://ai100.cupoy.com/file-download/part01/application_train.csv\n",
            "Resolving ai100.cupoy.com (ai100.cupoy.com)... 13.35.125.70, 13.35.125.129, 13.35.125.120, ...\n",
            "Connecting to ai100.cupoy.com (ai100.cupoy.com)|13.35.125.70|:80... connected.\n",
            "HTTP request sent, awaiting response... 200 OK\n",
            "Length: 166133370 (158M) [text/csv]\n",
            "Saving to: ‘application_train.csv.1’\n",
            "\n",
            "application_train.c 100%[===================>] 158.44M  96.7MB/s    in 1.6s    \n",
            "\n",
            "2019-05-11 23:02:26 (96.7 MB/s) - ‘application_train.csv.1’ saved [166133370/166133370]\n",
            "\n"
          ],
          "name": "stdout"
        }
      ]
    },
    {
      "cell_type": "code",
      "metadata": {
        "id": "VMkU_dw7GuVL",
        "colab_type": "code",
        "outputId": "cd109fb1-1eea-4edb-e1fd-a570a038b551",
        "colab": {
          "base_uri": "https://localhost:8080/",
          "height": 35
        }
      },
      "source": [
        "#f_app = os.path.join(dir_data, 'application_train.csv')\n",
        "#print('Path of read in data: %s' % (f_app))\n",
        "f_app = '/content/application_train.csv'\n",
        "app_train = pd.read_csv(f_app)\n",
        "app_train.shape"
      ],
      "execution_count": 3,
      "outputs": [
        {
          "output_type": "execute_result",
          "data": {
            "text/plain": [
              "(307511, 122)"
            ]
          },
          "metadata": {
            "tags": []
          },
          "execution_count": 3
        }
      ]
    },
    {
      "cell_type": "code",
      "metadata": {
        "id": "WpaVjXiQGuV3",
        "colab_type": "code",
        "outputId": "86daed94-eb98-4bb0-d924-257e02b030ba",
        "colab": {
          "base_uri": "https://localhost:8080/",
          "height": 274
        }
      },
      "source": [
        "# 將只有兩種值的類別型欄位, 做 Label Encoder, 計算相關係數時讓這些欄位可以被包含在內\n",
        "from sklearn.preprocessing import LabelEncoder\n",
        "le = LabelEncoder()\n",
        "\n",
        "# 檢查每一個 column\n",
        "for col in app_train:\n",
        "    if app_train[col].dtype == 'object':\n",
        "        # 如果只有兩種值的類別型欄位\n",
        "        if len(list(app_train[col].unique())) <= 2:\n",
        "            # 就做 Label Encoder, 以加入相關係數檢查\n",
        "            app_train[col] = le.fit_transform(app_train[col])            \n",
        "print(app_train.shape)\n",
        "app_train.head()"
      ],
      "execution_count": 4,
      "outputs": [
        {
          "output_type": "stream",
          "text": [
            "(307511, 122)\n"
          ],
          "name": "stdout"
        },
        {
          "output_type": "execute_result",
          "data": {
            "text/html": [
              "<div>\n",
              "<style scoped>\n",
              "    .dataframe tbody tr th:only-of-type {\n",
              "        vertical-align: middle;\n",
              "    }\n",
              "\n",
              "    .dataframe tbody tr th {\n",
              "        vertical-align: top;\n",
              "    }\n",
              "\n",
              "    .dataframe thead th {\n",
              "        text-align: right;\n",
              "    }\n",
              "</style>\n",
              "<table border=\"1\" class=\"dataframe\">\n",
              "  <thead>\n",
              "    <tr style=\"text-align: right;\">\n",
              "      <th></th>\n",
              "      <th>SK_ID_CURR</th>\n",
              "      <th>TARGET</th>\n",
              "      <th>NAME_CONTRACT_TYPE</th>\n",
              "      <th>CODE_GENDER</th>\n",
              "      <th>FLAG_OWN_CAR</th>\n",
              "      <th>FLAG_OWN_REALTY</th>\n",
              "      <th>CNT_CHILDREN</th>\n",
              "      <th>AMT_INCOME_TOTAL</th>\n",
              "      <th>AMT_CREDIT</th>\n",
              "      <th>AMT_ANNUITY</th>\n",
              "      <th>...</th>\n",
              "      <th>FLAG_DOCUMENT_18</th>\n",
              "      <th>FLAG_DOCUMENT_19</th>\n",
              "      <th>FLAG_DOCUMENT_20</th>\n",
              "      <th>FLAG_DOCUMENT_21</th>\n",
              "      <th>AMT_REQ_CREDIT_BUREAU_HOUR</th>\n",
              "      <th>AMT_REQ_CREDIT_BUREAU_DAY</th>\n",
              "      <th>AMT_REQ_CREDIT_BUREAU_WEEK</th>\n",
              "      <th>AMT_REQ_CREDIT_BUREAU_MON</th>\n",
              "      <th>AMT_REQ_CREDIT_BUREAU_QRT</th>\n",
              "      <th>AMT_REQ_CREDIT_BUREAU_YEAR</th>\n",
              "    </tr>\n",
              "  </thead>\n",
              "  <tbody>\n",
              "    <tr>\n",
              "      <th>0</th>\n",
              "      <td>100002</td>\n",
              "      <td>1</td>\n",
              "      <td>0</td>\n",
              "      <td>M</td>\n",
              "      <td>0</td>\n",
              "      <td>1</td>\n",
              "      <td>0</td>\n",
              "      <td>202500.0</td>\n",
              "      <td>406597.5</td>\n",
              "      <td>24700.5</td>\n",
              "      <td>...</td>\n",
              "      <td>0</td>\n",
              "      <td>0</td>\n",
              "      <td>0</td>\n",
              "      <td>0</td>\n",
              "      <td>0.0</td>\n",
              "      <td>0.0</td>\n",
              "      <td>0.0</td>\n",
              "      <td>0.0</td>\n",
              "      <td>0.0</td>\n",
              "      <td>1.0</td>\n",
              "    </tr>\n",
              "    <tr>\n",
              "      <th>1</th>\n",
              "      <td>100003</td>\n",
              "      <td>0</td>\n",
              "      <td>0</td>\n",
              "      <td>F</td>\n",
              "      <td>0</td>\n",
              "      <td>0</td>\n",
              "      <td>0</td>\n",
              "      <td>270000.0</td>\n",
              "      <td>1293502.5</td>\n",
              "      <td>35698.5</td>\n",
              "      <td>...</td>\n",
              "      <td>0</td>\n",
              "      <td>0</td>\n",
              "      <td>0</td>\n",
              "      <td>0</td>\n",
              "      <td>0.0</td>\n",
              "      <td>0.0</td>\n",
              "      <td>0.0</td>\n",
              "      <td>0.0</td>\n",
              "      <td>0.0</td>\n",
              "      <td>0.0</td>\n",
              "    </tr>\n",
              "    <tr>\n",
              "      <th>2</th>\n",
              "      <td>100004</td>\n",
              "      <td>0</td>\n",
              "      <td>1</td>\n",
              "      <td>M</td>\n",
              "      <td>1</td>\n",
              "      <td>1</td>\n",
              "      <td>0</td>\n",
              "      <td>67500.0</td>\n",
              "      <td>135000.0</td>\n",
              "      <td>6750.0</td>\n",
              "      <td>...</td>\n",
              "      <td>0</td>\n",
              "      <td>0</td>\n",
              "      <td>0</td>\n",
              "      <td>0</td>\n",
              "      <td>0.0</td>\n",
              "      <td>0.0</td>\n",
              "      <td>0.0</td>\n",
              "      <td>0.0</td>\n",
              "      <td>0.0</td>\n",
              "      <td>0.0</td>\n",
              "    </tr>\n",
              "    <tr>\n",
              "      <th>3</th>\n",
              "      <td>100006</td>\n",
              "      <td>0</td>\n",
              "      <td>0</td>\n",
              "      <td>F</td>\n",
              "      <td>0</td>\n",
              "      <td>1</td>\n",
              "      <td>0</td>\n",
              "      <td>135000.0</td>\n",
              "      <td>312682.5</td>\n",
              "      <td>29686.5</td>\n",
              "      <td>...</td>\n",
              "      <td>0</td>\n",
              "      <td>0</td>\n",
              "      <td>0</td>\n",
              "      <td>0</td>\n",
              "      <td>NaN</td>\n",
              "      <td>NaN</td>\n",
              "      <td>NaN</td>\n",
              "      <td>NaN</td>\n",
              "      <td>NaN</td>\n",
              "      <td>NaN</td>\n",
              "    </tr>\n",
              "    <tr>\n",
              "      <th>4</th>\n",
              "      <td>100007</td>\n",
              "      <td>0</td>\n",
              "      <td>0</td>\n",
              "      <td>M</td>\n",
              "      <td>0</td>\n",
              "      <td>1</td>\n",
              "      <td>0</td>\n",
              "      <td>121500.0</td>\n",
              "      <td>513000.0</td>\n",
              "      <td>21865.5</td>\n",
              "      <td>...</td>\n",
              "      <td>0</td>\n",
              "      <td>0</td>\n",
              "      <td>0</td>\n",
              "      <td>0</td>\n",
              "      <td>0.0</td>\n",
              "      <td>0.0</td>\n",
              "      <td>0.0</td>\n",
              "      <td>0.0</td>\n",
              "      <td>0.0</td>\n",
              "      <td>0.0</td>\n",
              "    </tr>\n",
              "  </tbody>\n",
              "</table>\n",
              "<p>5 rows × 122 columns</p>\n",
              "</div>"
            ],
            "text/plain": [
              "   SK_ID_CURR  TARGET  NAME_CONTRACT_TYPE CODE_GENDER  FLAG_OWN_CAR  \\\n",
              "0      100002       1                   0           M             0   \n",
              "1      100003       0                   0           F             0   \n",
              "2      100004       0                   1           M             1   \n",
              "3      100006       0                   0           F             0   \n",
              "4      100007       0                   0           M             0   \n",
              "\n",
              "   FLAG_OWN_REALTY  CNT_CHILDREN  AMT_INCOME_TOTAL  AMT_CREDIT  AMT_ANNUITY  \\\n",
              "0                1             0          202500.0    406597.5      24700.5   \n",
              "1                0             0          270000.0   1293502.5      35698.5   \n",
              "2                1             0           67500.0    135000.0       6750.0   \n",
              "3                1             0          135000.0    312682.5      29686.5   \n",
              "4                1             0          121500.0    513000.0      21865.5   \n",
              "\n",
              "   ...  FLAG_DOCUMENT_18 FLAG_DOCUMENT_19 FLAG_DOCUMENT_20 FLAG_DOCUMENT_21  \\\n",
              "0  ...                 0                0                0                0   \n",
              "1  ...                 0                0                0                0   \n",
              "2  ...                 0                0                0                0   \n",
              "3  ...                 0                0                0                0   \n",
              "4  ...                 0                0                0                0   \n",
              "\n",
              "  AMT_REQ_CREDIT_BUREAU_HOUR AMT_REQ_CREDIT_BUREAU_DAY  \\\n",
              "0                        0.0                       0.0   \n",
              "1                        0.0                       0.0   \n",
              "2                        0.0                       0.0   \n",
              "3                        NaN                       NaN   \n",
              "4                        0.0                       0.0   \n",
              "\n",
              "   AMT_REQ_CREDIT_BUREAU_WEEK  AMT_REQ_CREDIT_BUREAU_MON  \\\n",
              "0                         0.0                        0.0   \n",
              "1                         0.0                        0.0   \n",
              "2                         0.0                        0.0   \n",
              "3                         NaN                        NaN   \n",
              "4                         0.0                        0.0   \n",
              "\n",
              "   AMT_REQ_CREDIT_BUREAU_QRT  AMT_REQ_CREDIT_BUREAU_YEAR  \n",
              "0                        0.0                         1.0  \n",
              "1                        0.0                         0.0  \n",
              "2                        0.0                         0.0  \n",
              "3                        NaN                         NaN  \n",
              "4                        0.0                         0.0  \n",
              "\n",
              "[5 rows x 122 columns]"
            ]
          },
          "metadata": {
            "tags": []
          },
          "execution_count": 4
        }
      ]
    },
    {
      "cell_type": "code",
      "metadata": {
        "id": "UzSXoWrPGuWs",
        "colab_type": "code",
        "colab": {}
      },
      "source": [
        "# 受雇日數為異常值的資料, 另外設一個欄位記錄, 並將異常的日數轉成空值 (np.nan)\n",
        "app_train['DAYS_EMPLOYED_ANOM'] = app_train[\"DAYS_EMPLOYED\"] == 365243\n",
        "app_train['DAYS_EMPLOYED'].replace({365243: np.nan}, inplace = True)\n",
        "# 出生日數 (DAYS_BIRTH) 取絕對值 \n",
        "app_train['DAYS_BIRTH'] = abs(app_train['DAYS_BIRTH'])"
      ],
      "execution_count": 0,
      "outputs": []
    },
    {
      "cell_type": "code",
      "metadata": {
        "id": "RlupV3FdJcpL",
        "colab_type": "code",
        "colab": {
          "base_uri": "https://localhost:8080/",
          "height": 1160
        },
        "outputId": "1b95ffec-11da-4d0d-b3ae-1449523b95e3"
      },
      "source": [
        "app_train['TARGET']"
      ],
      "execution_count": 6,
      "outputs": [
        {
          "output_type": "execute_result",
          "data": {
            "text/plain": [
              "0         1\n",
              "1         0\n",
              "2         0\n",
              "3         0\n",
              "4         0\n",
              "5         0\n",
              "6         0\n",
              "7         0\n",
              "8         0\n",
              "9         0\n",
              "10        0\n",
              "11        0\n",
              "12        0\n",
              "13        0\n",
              "14        0\n",
              "15        0\n",
              "16        0\n",
              "17        0\n",
              "18        0\n",
              "19        0\n",
              "20        0\n",
              "21        0\n",
              "22        0\n",
              "23        0\n",
              "24        0\n",
              "25        0\n",
              "26        1\n",
              "27        0\n",
              "28        0\n",
              "29        0\n",
              "         ..\n",
              "307481    1\n",
              "307482    0\n",
              "307483    0\n",
              "307484    0\n",
              "307485    0\n",
              "307486    0\n",
              "307487    0\n",
              "307488    0\n",
              "307489    1\n",
              "307490    0\n",
              "307491    0\n",
              "307492    0\n",
              "307493    0\n",
              "307494    0\n",
              "307495    0\n",
              "307496    0\n",
              "307497    0\n",
              "307498    0\n",
              "307499    0\n",
              "307500    0\n",
              "307501    0\n",
              "307502    0\n",
              "307503    0\n",
              "307504    0\n",
              "307505    0\n",
              "307506    0\n",
              "307507    0\n",
              "307508    0\n",
              "307509    1\n",
              "307510    0\n",
              "Name: TARGET, Length: 307511, dtype: int64"
            ]
          },
          "metadata": {
            "tags": []
          },
          "execution_count": 6
        }
      ]
    },
    {
      "cell_type": "markdown",
      "metadata": {
        "id": "JCm0CLn3GuXF",
        "colab_type": "text"
      },
      "source": [
        "### 相關係數\n",
        "一樣，pandas 很貼心地讓我們可以非常容易計算相關係數"
      ]
    },
    {
      "cell_type": "code",
      "metadata": {
        "id": "HA0wrGeKGuXO",
        "colab_type": "code",
        "outputId": "80e64ad0-3f33-4150-bdc8-ec62bbc8ba31",
        "colab": {
          "base_uri": "https://localhost:8080/",
          "height": 1160
        }
      },
      "source": [
        "# 觀察相關係數\n",
        "app_train.corr()['TARGET']"
      ],
      "execution_count": 5,
      "outputs": [
        {
          "output_type": "execute_result",
          "data": {
            "text/plain": [
              "SK_ID_CURR                    -0.002108\n",
              "TARGET                         1.000000\n",
              "NAME_CONTRACT_TYPE            -0.030896\n",
              "FLAG_OWN_CAR                  -0.021851\n",
              "FLAG_OWN_REALTY               -0.006148\n",
              "CNT_CHILDREN                   0.019187\n",
              "AMT_INCOME_TOTAL              -0.003982\n",
              "AMT_CREDIT                    -0.030369\n",
              "AMT_ANNUITY                   -0.012817\n",
              "AMT_GOODS_PRICE               -0.039645\n",
              "REGION_POPULATION_RELATIVE    -0.037227\n",
              "DAYS_BIRTH                     0.078239\n",
              "DAYS_EMPLOYED                 -0.044932\n",
              "DAYS_REGISTRATION              0.041975\n",
              "DAYS_ID_PUBLISH                0.051457\n",
              "OWN_CAR_AGE                    0.037612\n",
              "FLAG_MOBIL                     0.000534\n",
              "FLAG_EMP_PHONE                 0.045982\n",
              "FLAG_WORK_PHONE                0.028524\n",
              "FLAG_CONT_MOBILE               0.000370\n",
              "FLAG_PHONE                    -0.023806\n",
              "FLAG_EMAIL                    -0.001758\n",
              "CNT_FAM_MEMBERS                0.009308\n",
              "REGION_RATING_CLIENT           0.058899\n",
              "REGION_RATING_CLIENT_W_CITY    0.060893\n",
              "HOUR_APPR_PROCESS_START       -0.024166\n",
              "REG_REGION_NOT_LIVE_REGION     0.005576\n",
              "REG_REGION_NOT_WORK_REGION     0.006942\n",
              "LIVE_REGION_NOT_WORK_REGION    0.002819\n",
              "REG_CITY_NOT_LIVE_CITY         0.044395\n",
              "                                 ...   \n",
              "DEF_30_CNT_SOCIAL_CIRCLE       0.032248\n",
              "OBS_60_CNT_SOCIAL_CIRCLE       0.009022\n",
              "DEF_60_CNT_SOCIAL_CIRCLE       0.031276\n",
              "DAYS_LAST_PHONE_CHANGE         0.055218\n",
              "FLAG_DOCUMENT_2                0.005417\n",
              "FLAG_DOCUMENT_3                0.044346\n",
              "FLAG_DOCUMENT_4               -0.002672\n",
              "FLAG_DOCUMENT_5               -0.000316\n",
              "FLAG_DOCUMENT_6               -0.028602\n",
              "FLAG_DOCUMENT_7               -0.001520\n",
              "FLAG_DOCUMENT_8               -0.008040\n",
              "FLAG_DOCUMENT_9               -0.004352\n",
              "FLAG_DOCUMENT_10              -0.001414\n",
              "FLAG_DOCUMENT_11              -0.004229\n",
              "FLAG_DOCUMENT_12              -0.000756\n",
              "FLAG_DOCUMENT_13              -0.011583\n",
              "FLAG_DOCUMENT_14              -0.009464\n",
              "FLAG_DOCUMENT_15              -0.006536\n",
              "FLAG_DOCUMENT_16              -0.011615\n",
              "FLAG_DOCUMENT_17              -0.003378\n",
              "FLAG_DOCUMENT_18              -0.007952\n",
              "FLAG_DOCUMENT_19              -0.001358\n",
              "FLAG_DOCUMENT_20               0.000215\n",
              "FLAG_DOCUMENT_21               0.003709\n",
              "AMT_REQ_CREDIT_BUREAU_HOUR     0.000930\n",
              "AMT_REQ_CREDIT_BUREAU_DAY      0.002704\n",
              "AMT_REQ_CREDIT_BUREAU_WEEK     0.000788\n",
              "AMT_REQ_CREDIT_BUREAU_MON     -0.012462\n",
              "AMT_REQ_CREDIT_BUREAU_QRT     -0.002022\n",
              "AMT_REQ_CREDIT_BUREAU_YEAR     0.019930\n",
              "Name: TARGET, Length: 109, dtype: float64"
            ]
          },
          "metadata": {
            "tags": []
          },
          "execution_count": 5
        }
      ]
    },
    {
      "cell_type": "markdown",
      "metadata": {
        "id": "n5egwEhUGuX4",
        "colab_type": "text"
      },
      "source": [
        "## 練習時間\n",
        "列出目標 (TARGET) 與所有欄位之間相關係數，數值最大以及最小各 15 個\n",
        "\n",
        "通過相關係數的結果觀察有興趣的欄位與 TARGET 或其他欄位的相關係數，並嘗試找出有趣的訊息\n",
        "- 最好的方式當然是畫圖，舉例來說，我們知道  EXT_SOURCE_3 這個欄位和 TARGET 之間的相關係數是 -0.178919 (在已經這個資料集已經是最負的了！)，那我們可以 EXT_SOURCE_3  為 x 軸， TARGET 為 y 軸，把資料給畫出來"
      ]
    },
    {
      "cell_type": "code",
      "metadata": {
        "id": "fz6FZvCAGuYA",
        "colab_type": "code",
        "colab": {
          "base_uri": "https://localhost:8080/",
          "height": 607
        },
        "outputId": "fc0a754a-5fd5-43ce-8932-3f7c4e9b3e25"
      },
      "source": [
        "app_sorted = app_train.corr()['TARGET'].sort_values()\n",
        "min_lst = app_sorted.head(15)\n",
        "max_lst = app_sorted.tail(15)"
      ],
      "execution_count": 12,
      "outputs": [
        {
          "output_type": "stream",
          "text": [
            "EXT_SOURCE_3                 -0.178919\n",
            "EXT_SOURCE_2                 -0.160472\n",
            "EXT_SOURCE_1                 -0.155317\n",
            "DAYS_EMPLOYED                -0.044932\n",
            "FLOORSMAX_AVG                -0.044003\n",
            "FLOORSMAX_MEDI               -0.043768\n",
            "FLOORSMAX_MODE               -0.043226\n",
            "AMT_GOODS_PRICE              -0.039645\n",
            "REGION_POPULATION_RELATIVE   -0.037227\n",
            "ELEVATORS_AVG                -0.034199\n",
            "ELEVATORS_MEDI               -0.033863\n",
            "FLOORSMIN_AVG                -0.033614\n",
            "FLOORSMIN_MEDI               -0.033394\n",
            "LIVINGAREA_AVG               -0.032997\n",
            "LIVINGAREA_MEDI              -0.032739\n",
            "Name: TARGET, dtype: float64\n",
            "DEF_60_CNT_SOCIAL_CIRCLE       0.031276\n",
            "DEF_30_CNT_SOCIAL_CIRCLE       0.032248\n",
            "LIVE_CITY_NOT_WORK_CITY        0.032518\n",
            "OWN_CAR_AGE                    0.037612\n",
            "DAYS_REGISTRATION              0.041975\n",
            "FLAG_DOCUMENT_3                0.044346\n",
            "REG_CITY_NOT_LIVE_CITY         0.044395\n",
            "FLAG_EMP_PHONE                 0.045982\n",
            "REG_CITY_NOT_WORK_CITY         0.050994\n",
            "DAYS_ID_PUBLISH                0.051457\n",
            "DAYS_LAST_PHONE_CHANGE         0.055218\n",
            "REGION_RATING_CLIENT           0.058899\n",
            "REGION_RATING_CLIENT_W_CITY    0.060893\n",
            "DAYS_BIRTH                     0.078239\n",
            "TARGET                         1.000000\n",
            "Name: TARGET, dtype: float64\n"
          ],
          "name": "stdout"
        }
      ]
    },
    {
      "cell_type": "code",
      "metadata": {
        "id": "HLK-GGg-Lxhg",
        "colab_type": "code",
        "colab": {
          "base_uri": "https://localhost:8080/",
          "height": 1160
        },
        "outputId": "d7e52c89-250b-483f-f137-c502f27c6259"
      },
      "source": [
        "app_train['TARGET']"
      ],
      "execution_count": 13,
      "outputs": [
        {
          "output_type": "execute_result",
          "data": {
            "text/plain": [
              "0         1\n",
              "1         0\n",
              "2         0\n",
              "3         0\n",
              "4         0\n",
              "5         0\n",
              "6         0\n",
              "7         0\n",
              "8         0\n",
              "9         0\n",
              "10        0\n",
              "11        0\n",
              "12        0\n",
              "13        0\n",
              "14        0\n",
              "15        0\n",
              "16        0\n",
              "17        0\n",
              "18        0\n",
              "19        0\n",
              "20        0\n",
              "21        0\n",
              "22        0\n",
              "23        0\n",
              "24        0\n",
              "25        0\n",
              "26        1\n",
              "27        0\n",
              "28        0\n",
              "29        0\n",
              "         ..\n",
              "307481    1\n",
              "307482    0\n",
              "307483    0\n",
              "307484    0\n",
              "307485    0\n",
              "307486    0\n",
              "307487    0\n",
              "307488    0\n",
              "307489    1\n",
              "307490    0\n",
              "307491    0\n",
              "307492    0\n",
              "307493    0\n",
              "307494    0\n",
              "307495    0\n",
              "307496    0\n",
              "307497    0\n",
              "307498    0\n",
              "307499    0\n",
              "307500    0\n",
              "307501    0\n",
              "307502    0\n",
              "307503    0\n",
              "307504    0\n",
              "307505    0\n",
              "307506    0\n",
              "307507    0\n",
              "307508    0\n",
              "307509    1\n",
              "307510    0\n",
              "Name: TARGET, Length: 307511, dtype: int64"
            ]
          },
          "metadata": {
            "tags": []
          },
          "execution_count": 13
        }
      ]
    },
    {
      "cell_type": "code",
      "metadata": {
        "id": "Y4_CsvXNKJ8y",
        "colab_type": "code",
        "colab": {
          "base_uri": "https://localhost:8080/",
          "height": 344
        },
        "outputId": "efb10bb4-1f0f-4d42-b793-7eca17a77d33"
      },
      "source": [
        "x_min = app_train['EXT_SOURCE_3']\n",
        "x_max = app_train['DAYS_BIRTH']\n",
        "y = app_train['TARGET']\n",
        "\n",
        "np.corrcoef(x_min, y)\n",
        "plt.scatter(x_min,np.log(y))\n"
      ],
      "execution_count": 31,
      "outputs": [
        {
          "output_type": "stream",
          "text": [
            "/usr/local/lib/python3.6/dist-packages/ipykernel_launcher.py:6: RuntimeWarning: divide by zero encountered in log\n",
            "  \n"
          ],
          "name": "stderr"
        },
        {
          "output_type": "execute_result",
          "data": {
            "text/plain": [
              "<matplotlib.collections.PathCollection at 0x7f48407a35c0>"
            ]
          },
          "metadata": {
            "tags": []
          },
          "execution_count": 31
        },
        {
          "output_type": "display_data",
          "data": {
            "image/png": "[encoded data removed]",
            "text/plain": [
              "<Figure size 432x288 with 1 Axes>"
            ]
          },
          "metadata": {
            "tags": []
          }
        }
      ]
    },
    {
      "cell_type": "code",
      "metadata": {
        "id": "L4CyNTbANRFJ",
        "colab_type": "code",
        "colab": {
          "base_uri": "https://localhost:8080/",
          "height": 287
        },
        "outputId": "9cbaddc2-f2b9-4308-9b4e-f7edb23a58f6"
      },
      "source": [
        "np.corrcoef(x_max, y)\n",
        "plt.scatter(x_max,y)"
      ],
      "execution_count": 33,
      "outputs": [
        {
          "output_type": "execute_result",
          "data": {
            "text/plain": [
              "<matplotlib.collections.PathCollection at 0x7f48406dd630>"
            ]
          },
          "metadata": {
            "tags": []
          },
          "execution_count": 33
        },
        {
          "output_type": "display_data",
          "data": {
            "image/png": "[encoded data removed]",
            "text/plain": [
              "<Figure size 432x288 with 1 Axes>"
            ]
          },
          "metadata": {
            "tags": []
          }
        }
      ]
    }
  ]
}