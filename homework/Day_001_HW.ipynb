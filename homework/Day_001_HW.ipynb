{
  "nbformat": 4,
  "nbformat_minor": 0,
  "metadata": {
    "colab": {
      "name": "Day_001_HW.ipynb",
      "version": "0.3.2",
      "provenance": [],
      "include_colab_link": true
    },
    "language_info": {
      "codemirror_mode": {
        "name": "ipython",
        "version": 3
      },
      "file_extension": ".py",
      "mimetype": "text/x-python",
      "name": "python",
      "nbconvert_exporter": "python",
      "pygments_lexer": "ipython3",
      "version": "3.5.6"
    },
    "kernelspec": {
      "name": "python3",
      "display_name": "Python 3"
    },
    "accelerator": "GPU"
  },
  "cells": [
    {
      "cell_type": "markdown",
      "metadata": {
        "id": "view-in-github",
        "colab_type": "text"
      },
      "source": [
        "<a href=\"https://colab.research.google.com/github/cjchengtw/2nd-ML100Days/blob/master/homework/Day_001_HW.ipynb\" target=\"_parent\"><img src=\"https://colab.research.google.com/assets/colab-badge.svg\" alt=\"Open In Colab\"/></a>"
      ]
    },
    {
      "metadata": {
        "id": "IxOgpKfBvCko",
        "colab_type": "text"
      },
      "cell_type": "markdown",
      "source": [
        "# HW 1 \n",
        "\n",
        "## 資料:[ATP Men's Tour](https://www.kaggle.com/jordangoblet/atp-tour-20002016)\n",
        "## 1. 選擇此資料的原因\n",
        " 因爲想預測網球比賽結果，好玩成分佔多數。\n",
        "\n",
        "## 2. 資料從何而來\n",
        "\n",
        "**提供者** : Jordan Goblet\n",
        "\n",
        "\n",
        "**來源** :http://www.tennis-data.co.uk/data.php\n",
        "\n",
        "\n",
        "## 3. 蒐集而來的資料型態為何\n",
        "\n",
        "資料形態爲包含結構資料的 csv 檔\n",
        "\n",
        "資料有以下欄位：\n",
        "\n",
        "    ATP = Tournament number (men)\n",
        "    Location = Venue of tournament\n",
        "    Tournament = Name of tournament (including sponsor if relevant)\n",
        "    Data = Date of match (note: prior to 2003 the date shown for all matches played in a single tournament is the start date)\n",
        "    Series = Name of ATP tennis series (Grand Slam, Masters, International or International Gold)\n",
        "    Court = Type of court (outdoors or indoors)\n",
        "    Surface = Type of surface (clay, hard, carpet or grass)\n",
        "    Round = Round of match\n",
        "    Best of = Maximum number of sets playable in match\n",
        "    Winner = Match winner\n",
        "    Loser = Match loser\n",
        "    WRank = ATP Entry ranking of the match winner as of the start of the tournament\n",
        "    LRank = ATP Entry ranking of the match loser as of the start of the tournament\n",
        "    WPts = ATP Entry points of the match winner as of the start of the tournament\n",
        "    LPts = ATP Entry points of the match loser as of the start of the tournament\n",
        "    W1 = Number of games won in 1st set by match winner\n",
        "    L1 = Number of games won in 1st set by match loser\n",
        "    W2 = Number of games won in 2nd set by match winner\n",
        "    L2 = Number of games won in 2nd set by match loser\n",
        "    W3 = Number of games won in 3rd set by match winner\n",
        "    L3 = Number of games won in 3rd set by match loser\n",
        "    W4 = Number of games won in 4th set by match winner\n",
        "    L4 = Number of games won in 4th set by match loser\n",
        "    W5 = Number of games won in 5th set by match winner\n",
        "    L5 = Number of games won in 5th set by match loser\n",
        "    Wsets = Number of sets won by match winner\n",
        "    Lsets = Number of sets won by match loser\n",
        "    Comment = Comment on the match (Completed, won through retirement of loser, or via Walkover)\n",
        "\n",
        "Key to match betting odds data:\n",
        "\n",
        "    B365W = Bet365 odds of match winner\n",
        "    B365L = Bet365 odds of match loser\n",
        "    B&WW = Bet&Win odds of match winner\n",
        "    B&WL = Bet&Win odds of match loser\n",
        "    CBW = Centrebet odds of match winner\n",
        "    CBL = Centrebet odds of match loser\n",
        "    EXW = Expekt odds of match winner\n",
        "    EXL = Expekt odds of match loser\n",
        "    LBW = Ladbrokes odds of match winner\n",
        "    LBL = Ladbrokes odds of match loser\n",
        "    GBW = Gamebookers odds of match winner\n",
        "    GBL = Gamebookers odds of match loser\n",
        "    IWW = Interwetten odds of match winner\n",
        "    IWL = Interwetten odds of match loser\n",
        "    PSW = Pinnacles Sports odds of match winner\n",
        "    PSL = Pinnacles Sports odds of match loser\n",
        "    SBW = Sportingbet odds of match winner\n",
        "    SBL = Sportingbet odds of match loser\n",
        "    SJW = Stan James odds of match winner\n",
        "    SJL = Stan James odds of match loser\n",
        "    UBW = Unibet odds of match winner\n",
        "\n",
        "    UBL = Unibet odds of match loser\n",
        "\n",
        "    MaxW= Maximum odds of match winner\n",
        "    MaxL= Maximum odds of match loser\n",
        "    AvgW= Average odds of match winner\n",
        "    AvgL= Average odds of match loser\n",
        "\n",
        "\n",
        "## 4. 這組資料想解決的問題如何評估\n",
        "\n",
        "預測比賽贏家之後和實際結果比對"
      ]
    },
    {
      "metadata": {
        "id": "OMXnZRs0vcrT",
        "colab_type": "text"
      },
      "cell_type": "markdown",
      "source": [
        "# HW 2\n",
        "\n",
        "## 說明\n",
        "想像你經營一個自由載客車隊，你希望能透過數據分析以提升業績，請你思考並描述你如何規劃整體的分析/解決方案：\n",
        "\n",
        "### 1. 核心問題為何 (tips：如何定義 「提升業績 & 你的假設」)\n",
        "* 到較多乘車需求的地區攬客\n",
        "* 價格\n",
        "* 安全性\n",
        "* 便利性\n",
        "* 廣告平臺\n",
        "\n",
        "### 2. 資料從何而來 (tips：哪些資料可能會對你想問的問題產生影響 & 資料如何蒐集)\n",
        "\n",
        "* 從客戶的評價得知價格是否合理、行車過程是否安全、是否有效率的抵達目的地\n",
        "* 從車子的路線得知行車路線是否異常，藉此監控安全性\n",
        "* 從乘客上車地點分析用戶乘車的地區分佈\n",
        "* 廣告觸及用戶與公司平臺用戶的人數與資料\n",
        "\n",
        "### 3. 蒐集而來的資料型態為何\n",
        "\n",
        "* 結構化資料：經緯度、評分、用戶資料\n",
        "* 非結構化資料：評論、行車記錄器影像\n",
        "\n",
        "### 4. 你要回答的問題，其如何評估 (tips：你的假設如何驗證)\n",
        "\n",
        "* 到指定地區活動固定的時間、調整價格之後取得的業績和原本的比較\n",
        "* 判斷評價升降、評估廣告曝光與業績有無正相關\n",
        "\n"
      ]
    },
    {
      "metadata": {
        "id": "tbyvT3ZC7hYK",
        "colab_type": "text"
      },
      "cell_type": "markdown",
      "source": [
        "## 練習時間\n",
        "#### 請寫一個函式用來計算 Mean Square Error\n",
        "$ MSE = \\frac{1}{n}\\sum_{i=1}^{n}{(Y_i - \\hat{Y}_i)^2} $\n",
        "\n",
        "### Hint: [如何取平方](https://googoodesign.gitbooks.io/-ezpython/unit-1.html)"
      ]
    },
    {
      "metadata": {
        "id": "rJUmMctV7hYR",
        "colab_type": "code",
        "colab": {}
      },
      "cell_type": "code",
      "source": [
        "import numpy as np\n",
        "import matplotlib.pyplot as plt\n",
        "from sklearn.metrics import mean_absolute_error"
      ],
      "execution_count": 0,
      "outputs": []
    },
    {
      "metadata": {
        "id": "yQ8KRKPy7hYf",
        "colab_type": "code",
        "colab": {}
      },
      "cell_type": "code",
      "source": [
        "def mean_squared_error(y, y_hat):\n",
        "    \"\"\"\n",
        "    請完成這個 Function 後往下執行\n",
        "    \"\"\"\n",
        "    sum = 0\n",
        "    y_points = zip(y,y_hat)\n",
        "    for a,b in y_points:\n",
        "        sum += ((b-a)**2)\n",
        "    return sum/len(y)\n"
      ],
      "execution_count": 0,
      "outputs": []
    },
    {
      "metadata": {
        "id": "rvVU96vv7hYt",
        "colab_type": "code",
        "outputId": "01f44f47-bbd7-413c-e83d-efc2a19b2257",
        "colab": {
          "base_uri": "https://localhost:8080/",
          "height": 281
        }
      },
      "cell_type": "code",
      "source": [
        "w = 3\n",
        "b = 0.5\n",
        "\n",
        "x_lin = np.linspace(0, 100, 101)\n",
        "\n",
        "y = (x_lin + np.random.randn(101) * 5) * w + b\n",
        "\n",
        "plt.plot(x_lin, y, 'b.', label = 'data points')\n",
        "plt.title(\"Assume we have data points\")\n",
        "plt.legend(loc = 2)\n",
        "plt.show()"
      ],
      "execution_count": 3,
      "outputs": [
        {
          "output_type": "display_data",
          "data": {
            "image/png": "[encoded data removed]",
            "text/plain": [
              "<Figure size 432x288 with 1 Axes>"
            ]
          },
          "metadata": {
            "tags": []
          }
        }
      ]
    },
    {
      "metadata": {
        "id": "hMMW0fN67hY8",
        "colab_type": "code",
        "outputId": "72ccce72-b627-4377-f961-2b351453a624",
        "colab": {
          "base_uri": "https://localhost:8080/",
          "height": 281
        }
      },
      "cell_type": "code",
      "source": [
        "y_hat = x_lin * w + b\n",
        "plt.plot(x_lin, y, 'b.', label = 'data')\n",
        "plt.plot(x_lin, y_hat, 'r-', label = 'prediction')\n",
        "plt.title(\"Assume we have data points (And the prediction)\")\n",
        "plt.legend(loc = 2)\n",
        "plt.show()"
      ],
      "execution_count": 4,
      "outputs": [
        {
          "output_type": "display_data",
          "data": {
            "image/png": "[encoded data removed]",
            "text/plain": [
              "<Figure size 432x288 with 1 Axes>"
            ]
          },
          "metadata": {
            "tags": []
          }
        }
      ]
    },
    {
      "metadata": {
        "id": "gwmDXSZH7hZH",
        "colab_type": "code",
        "outputId": "301561a0-ca8a-423e-bfa8-792e319d9904",
        "colab": {
          "base_uri": "https://localhost:8080/",
          "height": 55
        }
      },
      "cell_type": "code",
      "source": [
        "# 執行 Function, 確認有沒有正常執行\n",
        "MSE = mean_squared_error(y, y_hat)\n",
        "MAE = mean_absolute_error(y, y_hat)\n",
        "print(\"The Mean squared error is %.3f\" % (MSE))\n",
        "print(\"The Mean absolute error is %.3f\" % (MAE))"
      ],
      "execution_count": 5,
      "outputs": [
        {
          "output_type": "stream",
          "text": [
            "The Mean squared error is 191.892\n",
            "The Mean absolute error is 11.357\n"
          ],
          "name": "stdout"
        }
      ]
    },
    {
      "metadata": {
        "id": "c-Ps4S6P8xqz",
        "colab_type": "code",
        "colab": {}
      },
      "cell_type": "code",
      "source": [
        ""
      ],
      "execution_count": 0,
      "outputs": []
    }
  ]
}